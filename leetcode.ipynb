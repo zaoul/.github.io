{
  "nbformat": 4,
  "nbformat_minor": 0,
  "metadata": {
    "colab": {
      "name": "leetcode",
      "provenance": [],
      "collapsed_sections": [],
      "mount_file_id": "12VSBviXk196Ix9u9VBCg0Bs_nd1DP1N2",
      "authorship_tag": "ABX9TyNOzaBmeTRNAF1Eu/9EjUXc",
      "include_colab_link": true
    },
    "kernelspec": {
      "name": "python3",
      "display_name": "Python 3"
    },
    "language_info": {
      "name": "python"
    }
  },
  "cells": [
    {
      "cell_type": "markdown",
      "metadata": {
        "id": "view-in-github",
        "colab_type": "text"
      },
      "source": [
        "<a href=\"https://colab.research.google.com/github/zaoul/zaoul.github.io/blob/master/leetcode.ipynb\" target=\"_parent\"><img src=\"https://colab.research.google.com/assets/colab-badge.svg\" alt=\"Open In Colab\"/></a>"
      ]
    },
    {
      "cell_type": "markdown",
      "metadata": {
        "id": "65hcALXljUwV"
      },
      "source": [
        "#数组数组"
      ]
    },
    {
      "cell_type": "markdown",
      "metadata": {
        "id": "8s83Rj-u9-lw"
      },
      "source": [
        "## 找出数组中重复的数字\n",
        "在一个长度为 n 的数组 nums 里的所有数字都在 0～n-1 的范围内。数组中某些数字是重复的，但不知道有几个数字重复了，也不知道每个数字重复了几次。请找出数组中任意一个重复的数字。\n",
        "运行时间/内存消耗\n",
        "法1：遍历。4936ms/19MB\n",
        "法2："
      ]
    },
    {
      "cell_type": "code",
      "metadata": {
        "colab": {
          "base_uri": "https://localhost:8080/"
        },
        "id": "4HMuKAGzjP1e",
        "outputId": "ed8bb0cd-13dd-49f2-f9d4-376e01dfc064"
      },
      "source": [
        "nums=[2, 3, 1, 0, 2, 5, 3]\n",
        "copy = []\n",
        "for num in nums:\n",
        "  if num not in copy:\n",
        "    copy.append(num)\n",
        "  else:\n",
        "    print(num)\n",
        "    break"
      ],
      "execution_count": null,
      "outputs": [
        {
          "output_type": "stream",
          "text": [
            "2\n"
          ],
          "name": "stdout"
        }
      ]
    },
    {
      "cell_type": "markdown",
      "metadata": {
        "id": "SG1hc40T9vfh"
      },
      "source": [
        "## 二维数组中的查找\n",
        "在一个 n * m 的二维数组中，每一行都按照从左到右递增的顺序排序，每一列都按照从上到下递增的顺序排序。请完成一个高效的函数，输入这样的一个二维数组和一个整数，判断数组中是否含有该整数。\n"
      ]
    },
    {
      "cell_type": "code",
      "metadata": {
        "colab": {
          "base_uri": "https://localhost:8080/"
        },
        "id": "7k2d2q1QjZHI",
        "outputId": "97431c06-b21f-418e-c94c-10f6febd89f6"
      },
      "source": [
        "import numpy as np\n",
        "matrix=[[1,4,7,11,15],[2,5,8,12,19],[3,6,9,16,22],[10,13,14,17,24],[18,21,23,26,30]]\n",
        "target = 20\n",
        "matrix = np.array(matrix)\n",
        "m,n=matrix.shape\n",
        "while m > 0 and n > 0:\n",
        "  if target == matrix[0][n-1]:\n",
        "    print(True)\n",
        "    break\n",
        "  elif target > matrix[0][n-1]:\n",
        "    matrix = matrix[1:,:]\n",
        "    m = m - 1\n",
        "  else:\n",
        "    matrix = matrix[:,:-1]\n",
        "    n = n - 1\n",
        "    print(matrix, n)\n",
        "print(False)"
      ],
      "execution_count": null,
      "outputs": [
        {
          "output_type": "stream",
          "text": [
            "[[ 3  6  9 16]\n",
            " [10 13 14 17]\n",
            " [18 21 23 26]] 4\n",
            "[[18 21 23]] 3\n",
            "[[18 21]] 2\n",
            "[[18]] 1\n",
            "False\n"
          ],
          "name": "stdout"
        }
      ]
    },
    {
      "cell_type": "code",
      "metadata": {
        "colab": {
          "base_uri": "https://localhost:8080/",
          "height": 209
        },
        "id": "sedbykLAG1Ls",
        "outputId": "e727ed18-b902-4c95-f8fa-ad7205021a52"
      },
      "source": [
        "matrix=[]\n",
        "matrix = np.array(matrix)\n",
        "m,n=matrix.shape "
      ],
      "execution_count": null,
      "outputs": [
        {
          "output_type": "error",
          "ename": "ValueError",
          "evalue": "ignored",
          "traceback": [
            "\u001b[0;31m---------------------------------------------------------------------------\u001b[0m",
            "\u001b[0;31mValueError\u001b[0m                                Traceback (most recent call last)",
            "\u001b[0;32m<ipython-input-30-12d755ae4a96>\u001b[0m in \u001b[0;36m<module>\u001b[0;34m()\u001b[0m\n\u001b[1;32m      1\u001b[0m \u001b[0mmatrix\u001b[0m\u001b[0;34m=\u001b[0m\u001b[0;34m[\u001b[0m\u001b[0;34m]\u001b[0m\u001b[0;34m\u001b[0m\u001b[0;34m\u001b[0m\u001b[0m\n\u001b[1;32m      2\u001b[0m \u001b[0mmatrix\u001b[0m \u001b[0;34m=\u001b[0m \u001b[0mnp\u001b[0m\u001b[0;34m.\u001b[0m\u001b[0marray\u001b[0m\u001b[0;34m(\u001b[0m\u001b[0mmatrix\u001b[0m\u001b[0;34m)\u001b[0m\u001b[0;34m\u001b[0m\u001b[0;34m\u001b[0m\u001b[0m\n\u001b[0;32m----> 3\u001b[0;31m \u001b[0mm\u001b[0m\u001b[0;34m,\u001b[0m\u001b[0mn\u001b[0m\u001b[0;34m=\u001b[0m\u001b[0mmatrix\u001b[0m\u001b[0;34m.\u001b[0m\u001b[0mshape\u001b[0m\u001b[0;34m\u001b[0m\u001b[0;34m\u001b[0m\u001b[0m\n\u001b[0m",
            "\u001b[0;31mValueError\u001b[0m: not enough values to unpack (expected 2, got 1)"
          ]
        }
      ]
    },
    {
      "cell_type": "markdown",
      "metadata": {
        "id": "CnU6kQJzvaNx"
      },
      "source": [
        "# 字符串"
      ]
    },
    {
      "cell_type": "markdown",
      "metadata": {
        "id": "f6WwEf5vvdEx"
      },
      "source": [
        "## 替换空格\n",
        "请实现一个函数，把字符串 s 中的每个空格替换成\"%20\"。"
      ]
    },
    {
      "cell_type": "code",
      "metadata": {
        "colab": {
          "base_uri": "https://localhost:8080/"
        },
        "id": "UTYpNpEWG0ye",
        "outputId": "a7e1ed68-12fa-4082-ebe9-c646e60c3c94"
      },
      "source": [
        "s = \"We are happy.\"\n",
        "s=s.replace(' ', '%20')\n",
        "print(s)"
      ],
      "execution_count": null,
      "outputs": [
        {
          "output_type": "stream",
          "text": [
            "We%20are%20happy.\n"
          ],
          "name": "stdout"
        }
      ]
    },
    {
      "cell_type": "markdown",
      "metadata": {
        "id": "Rl9bx3r2MDy5"
      },
      "source": [
        "# 链表"
      ]
    },
    {
      "cell_type": "markdown",
      "metadata": {
        "id": "VTJEtXEpMGAB"
      },
      "source": [
        "## 旋转链表"
      ]
    },
    {
      "cell_type": "code",
      "metadata": {
        "id": "xHPX1tg5MC_W"
      },
      "source": [
        "class Solution:\n",
        "    def rotateRight(self, head: ListNode, k: int) -> ListNode:\n",
        "        if not head or not head.next:\n",
        "            return head\n",
        "        \n",
        "        a = head\n",
        "        kk = 0\n",
        "        while a.next:\n",
        "            k += 1\n",
        "            a = a.next\n",
        "        if kk + 1 >= k:\n",
        "            k = k % (kk+1)\n",
        "        \n",
        "        a.next = head\n",
        "        b = head\n",
        "        for kk in range(k):\n",
        "            b = b.next\n",
        "        return b\n"
      ],
      "execution_count": null,
      "outputs": []
    },
    {
      "cell_type": "markdown",
      "metadata": {
        "id": "A-Br1Yu_6Yit"
      },
      "source": [
        "# 栈"
      ]
    },
    {
      "cell_type": "markdown",
      "metadata": {
        "id": "JKm6GJ6Y6c4n"
      },
      "source": [
        "## 逆波兰表达式求值\n",
        "\n",
        "根据 逆波兰表示法，求表达式的值。\n",
        "有效的算符包括 +、-、*、/ 。每个运算对象可以是整数，也可以是另一个逆波兰表达式。\n",
        "\n",
        "说明：\n",
        "整数除法只保留整数部分。\n",
        "给定逆波兰表达式总是有效的。换句话说，表达式总会得出有效数值且不存在除数为0的情况。\n",
        " \n"
      ]
    },
    {
      "cell_type": "code",
      "metadata": {
        "colab": {
          "base_uri": "https://localhost:8080/"
        },
        "id": "o6bx58Ys6mFn",
        "outputId": "ab0921be-46f1-4802-cd8f-b9060ff5d66c"
      },
      "source": [
        "tokens = [\"10\",\"6\",\"9\",\"3\",\"+\",\"-11\",\"*\",\"/\",\"*\",\"17\",\"+\",\"5\",\"+\"]\n",
        "stack=[]\n",
        "for i in tokens:\n",
        "  if i not in '+-*/':\n",
        "    stack.append(int(i))\n",
        "  else:\n",
        "    v1 = stack.pop(-1)\n",
        "    v2 = stack.pop(-1)\n",
        "    if i == '+':\n",
        "        count = v2 + v1\n",
        "    elif i == '-':\n",
        "        count = v2 - v1\n",
        "    elif i == '*':\n",
        "        count = v2 * v1\n",
        "    elif i == '/':\n",
        "        count = int(v2 / v1)\n",
        "    stack.append(count)\n",
        "print(stack[0])"
      ],
      "execution_count": null,
      "outputs": [
        {
          "output_type": "stream",
          "text": [
            "22\n"
          ],
          "name": "stdout"
        }
      ]
    },
    {
      "cell_type": "code",
      "metadata": {
        "colab": {
          "base_uri": "https://localhost:8080/"
        },
        "id": "rj8M6neJCQMR",
        "outputId": "906f797f-6264-4729-f19e-c058f1f8d6a5"
      },
      "source": [
        "flowerbed = [1,0,0,0,1,0,0]\n",
        "n=2\n",
        "m = 0\n",
        "count = 0\n",
        "num = 0\n",
        "flag1 = 0\n",
        "flag2 = 0\n",
        "if flowerbed[0] == 0:\n",
        "    flag1 = 1\n",
        "if flowerbed[-1] == 0:\n",
        "    flag2 = 1\n",
        "if flowerbed == [0] or flowerbed == [0,0]:\n",
        "    print(True) \n",
        "for f in flowerbed:\n",
        "    if f == 0:\n",
        "        m += 1\n",
        "        if m % 2 == 1 and m > 1:\n",
        "            num = m // 2\n",
        "        elif m % 2 == 0 and m > 1 and flag1 == 1 :\n",
        "            flag1 = 0\n",
        "            num = m // 2 \n",
        "        elif m % 2 == 0 and m > 1:\n",
        "            num = m // 2 - 1\n",
        "        else:\n",
        "            num = 0\n",
        "    else:\n",
        "        m = 0\n",
        "        count += num\n",
        "        num = 0\n",
        "if flowerbed[-1] == 0 :\n",
        "    count += num\n",
        "if m % 2 == 0 and m > 1 and flag2 ==1:\n",
        "    count += 1\n",
        "\n",
        "if count >= n:\n",
        "    print(True)\n",
        "else:\n",
        "    print(False)"
      ],
      "execution_count": null,
      "outputs": [
        {
          "output_type": "stream",
          "text": [
            "True\n"
          ],
          "name": "stdout"
        }
      ]
    }
  ]
}